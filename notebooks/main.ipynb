{
 "cells": [
  {
   "cell_type": "markdown",
   "metadata": {},
   "source": [
    "# Main notebook\n",
    "\n",
    "Here I'm testing stuff\n"
   ]
  },
  {
   "cell_type": "code",
   "execution_count": 71,
   "metadata": {},
   "outputs": [],
   "source": [
    "from __future__ import annotations\n",
    "from typing import TYPE_CHECKING\n",
    "if TYPE_CHECKING:\n",
    "    from typing import Callable\n",
    "    from typing import TypeAlias\n",
    "    Procedure = Callable[..., None]\n",
    "import os\n",
    "import os.path \n",
    "import sys\n",
    "import math\n",
    "import logging\n",
    "import dataclasses"
   ]
  },
  {
   "cell_type": "code",
   "execution_count": 43,
   "metadata": {},
   "outputs": [],
   "source": [
    "logging.basicConfig(\n",
    "    level=logging.DEBUG, \n",
    "    format='%(name)s - %(levelname)s - %(message)s'\n",
    "    )"
   ]
  },
  {
   "cell_type": "code",
   "execution_count": 1,
   "metadata": {},
   "outputs": [],
   "source": [
    "import numpy as np\n",
    "from matplotlib import pyplot as plt"
   ]
  },
  {
   "cell_type": "code",
   "execution_count": 7,
   "metadata": {},
   "outputs": [],
   "source": [
    "# @NOTE: Constants\n",
    "\n",
    "COLORS: list[str] = [\n",
    "    \"blue\",\n",
    "    \"green\"\n",
    "]"
   ]
  },
  {
   "cell_type": "code",
   "execution_count": 73,
   "metadata": {},
   "outputs": [],
   "source": [
    "def create_grid() -> None:\n",
    "    fig, ax = plt.subplots()\n",
    "    ax.set_aspect('equal')\n",
    "    ax.grid(True, which='both')\n",
    "    ax.axhline(y=0, color='k')\n",
    "    ax.axvline(x=0, color='k')\n",
    "\n",
    "def draw_vectors(\n",
    "    vectors: list[np.ndarray], \n",
    "    basis_vectors: list[np.ndarray] | None=None, \n",
    "    colors=COLORS,\n",
    "    create_grid: Procedure=create_grid\n",
    ") -> None:\n",
    "    if not basis_vectors:\n",
    "        basis_vectors = [[0 for _ in vector] for vector in vectors]\n",
    "\n",
    "    create_grid()\n",
    "    \n",
    "    plt.quiver(\n",
    "        *basis_vectors, vectors[:, 0], vectors[:, 1], color=COLORS, \n",
    "        angles='xy', scale_units='xy', scale=1\n",
    "        )\n",
    "\n",
    "    # @TODO: Calculate automatic from values of vectors\n",
    "    plt.ylim(-10, 10)\n",
    "    plt.xlim(-10, 10)\n",
    "    \n",
    "    plt.show()"
   ]
  },
  {
   "cell_type": "code",
   "execution_count": 75,
   "metadata": {},
   "outputs": [
    {
     "name": "stderr",
     "output_type": "stream",
     "text": [
      "DEBUG:root:[-5 -2], [-1  2]\n"
     ]
    },
    {
     "data": {
      "image/png": "[encoded data removed]",
      "text/plain": [
       "<Figure size 640x480 with 1 Axes>"
      ]
     },
     "metadata": {},
     "output_type": "display_data"
    }
   ],
   "source": [
    "vectors = np.array([[-5, -1], [-2, 2]])\n",
    "\n",
    "logging.debug(f\"{vectors[:, 0]}, {vectors[:, 1]}\")\n",
    "\n",
    "draw_vectors(vectors)"
   ]
  }
 ],
 "metadata": {
  "kernelspec": {
   "display_name": "Python 3.10.8 64-bit",
   "language": "python",
   "name": "python3"
  },
  "language_info": {
   "codemirror_mode": {
    "name": "ipython",
    "version": 3
   },
   "file_extension": ".py",
   "mimetype": "text/x-python",
   "name": "python",
   "nbconvert_exporter": "python",
   "pygments_lexer": "ipython3",
   "version": "3.10.8"
  },
  "orig_nbformat": 4,
  "vscode": {
   "interpreter": {
    "hash": "e7370f93d1d0cde622a1f8e1c04877d8463912d04d973331ad4851f04de6915a"
   }
  }
 },
 "nbformat": 4,
 "nbformat_minor": 2
}
